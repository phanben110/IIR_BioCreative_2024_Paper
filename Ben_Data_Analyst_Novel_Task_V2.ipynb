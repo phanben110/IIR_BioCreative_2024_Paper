{
 "cells": [
  {
   "cell_type": "code",
   "execution_count": null,
   "metadata": {},
   "outputs": [],
   "source": [
    "import pandas as pd\n",
    "import os\n",
    "forder_train = \"/content/drive/MyDrive/BioCreativeVIII/BioREx/datas/Bio_Competition_dataset/train\"\n",
    "list_file = os.listdir(forder_train)  \n",
    "# Initialize data collection list\n",
    "list_data_NER = []\n",
    "list_data_RE = []\n",
    "text_t_in_documents = {} \n",
    "text_a_in_documents = {}\n",
    "for file_path in list_file: \n",
    "    file_path = os.path.join(forder_train, file_path)  \n",
    "# Open and process the file\n",
    "    with open(file_path, 'r') as file:\n",
    "\n",
    "        for line in file:\n",
    "            fields = line.strip().split('\\t')\n",
    "            if len(fields) == 6:\n",
    "                list_data_NER.append([fields[0],fields[1], fields[2], fields[3], fields[4], fields[5]])\n",
    "            elif len(fields) == 1 and '|t|' in fields[0]: \n",
    "                position_t = fields[0].find('|t|')\n",
    "                id_document = fields[0][:position_t]\n",
    "                text_t_in_documents.update({id_document :fields[0][position_t+3:]})\n",
    "            elif len(fields) == 1 and '|a|' in fields[0]:\n",
    "                position_a = fields[0].find('|a|')\n",
    "                id_document = fields[0][:position_a] \n",
    "                text_a_in_documents.update({id_document :fields[0][position_a+3:]}) \n",
    "            elif len(fields) == 5: \n",
    "                list_data_RE.append([fields[0],fields[1], fields[2], fields[3], fields[4]])\n",
    "    data_frame_RE = pd.DataFrame(list_data_RE, columns=[\"doc_id\", \"relation\", \"id_identifier_1\", \"id_identifier_2\", \"novel_cls\"])       \n",
    "    data_frame_NER = pd.DataFrame(list_data_NER, columns=[\"doc_id\", \"offset_1\", \"offset_2\", \"entity\", \"identifier\", \"id_identifier\"]) "
   ]
  },
  {
   "cell_type": "code",
   "execution_count": null,
   "metadata": {},
   "outputs": [],
   "source": [
    "text_in_documents={}\n",
    "for key in text_t_in_documents.keys(): \n",
    "    full_text = text_t_in_documents[key] + \" \" + text_a_in_documents[key]\n",
    "    text_in_documents.update({key:full_text}) \n",
    "data_frame_NER['full_document'] = data_frame_NER['doc_id'].map(text_in_documents)"
   ]
  },
  {
   "cell_type": "code",
   "execution_count": null,
   "metadata": {},
   "outputs": [],
   "source": [
    "data_frame_NER_work = data_frame_NER.copy()\n",
    "data_frame_NER_work"
   ]
  },
  {
   "cell_type": "code",
   "execution_count": null,
   "metadata": {},
   "outputs": [],
   "source": [
    "# Assuming df is your DataFrame\n",
    "def extract_entity(row):\n",
    "    return row['full_document'][int(row['offset_1']):int(row['offset_2'])]\n",
    "\n",
    "data_frame_NER_work['entity1_offset'] = data_frame_NER_work.apply(extract_entity, axis=1)\n",
    "data_frame_NER_work "
   ]
  },
  {
   "cell_type": "code",
   "execution_count": null,
   "metadata": {},
   "outputs": [],
   "source": [
    "import pandas as pd\n",
    "\n",
    "def extract_full_text(row):\n",
    "    start_index = int(row['offset_1'])\n",
    "    end_index = int(row['offset_2'])\n",
    "    full_document = row['full_document']\n",
    "    \n",
    "    # Find the position of the first '.' after end_index\n",
    "    end_period_index = full_document.find('.', end_index)\n",
    "    \n",
    "    # Find the position of the last '.' before start_index\n",
    "    last_period_index = full_document.rfind('.', 0, start_index)\n",
    "    \n",
    "    if last_period_index != -1:\n",
    "        return full_document[last_period_index + 1:end_period_index + 1]\n",
    "    else:\n",
    "        #return full_document[start_index:end_period_index + 1]\n",
    "        return full_document[0:end_period_index + 1]\n",
    "\n",
    "# Assuming df is your DataFrame\n",
    "data_frame_NER_work['full_sentence'] = data_frame_NER_work.apply(extract_full_text, axis=1)\n",
    "\n",
    "# Print the updated DataFrame\n",
    "data_frame_NER_work[\"full_sentence\"].iloc[1000]\n"
   ]
  },
  {
   "cell_type": "code",
   "execution_count": null,
   "metadata": {},
   "outputs": [],
   "source": [
    "data_frame_NER_work[\"entity\"].iloc[1000]\n",
    "data_frame_NER_clean = data_frame_NER_work.drop(['offset_1', 'offset_2', \"full_document\", \"entity1_offset\"], axis=1)\n",
    "data_frame_NER_clean"
   ]
  },
  {
   "cell_type": "code",
   "execution_count": null,
   "metadata": {},
   "outputs": [],
   "source": [
    "data_frame_NER_clean.drop_duplicates(subset=['entity', 'full_sentence', 'doc_id'], inplace=True)\n",
    "data_frame_NER_clean"
   ]
  },
  {
   "cell_type": "code",
   "execution_count": null,
   "metadata": {},
   "outputs": [],
   "source": [
    "data_test_1 = data_frame_NER_clean.rename(columns={\n",
    "  \"entity\":\"entity_1\", \n",
    "  \"identifier\":\"identifier_1\",\n",
    "  \"id_identifier\":\"id_identifier_1\",\n",
    "  \"full_sentence\":\"full_sentence_1\"\n",
    "})\n",
    "\n",
    "data_test_2 = data_frame_NER_clean.rename(columns={\n",
    "  \"entity\":\"entity_2\", \n",
    "  \"identifier\":\"identifier_2\",\n",
    "  \"id_identifier\":\"id_identifier_2\",\n",
    "  \"full_sentence\":\"full_sentence_2\"\n",
    "})"
   ]
  },
  {
   "cell_type": "code",
   "execution_count": null,
   "metadata": {},
   "outputs": [],
   "source": [
    "\n",
    "merged_df = pd.merge(data_frame_RE, data_test_1, on=['doc_id', 'id_identifier_1'], how='inner')\n",
    "merged_df "
   ]
  },
  {
   "cell_type": "code",
   "execution_count": null,
   "metadata": {},
   "outputs": [],
   "source": [
    "merged_df_2 = pd.merge(merged_df, data_test_2, on=['doc_id', 'id_identifier_2'], how='inner')"
   ]
  },
  {
   "cell_type": "code",
   "execution_count": null,
   "metadata": {},
   "outputs": [],
   "source": [
    "merged_df_2.drop(['doc_id', 'id_identifier_2', \"id_identifier_1\"], axis=1, inplace=True)"
   ]
  },
  {
   "cell_type": "code",
   "execution_count": null,
   "metadata": {},
   "outputs": [],
   "source": [
    "\n",
    "data1_x = merged_df_2.rename(columns={\n",
    "  \"entity_1\":\"entity_x\", \n",
    "  \"identifier_1\":\"identifier_x\",\n",
    "  \"id_identifier_1\":\"id_identifier_x\",\n",
    "  \"full_sentence_1\":\"full_sentence_x\"\n",
    "})\n",
    "\n",
    "\n",
    "data2_1 = data1_x.rename(columns={\n",
    "  \"entity_2\":\"entity_1\", \n",
    "  \"identifier_2\":\"identifier_1\",\n",
    "  \"id_identifier_2\":\"id_identifier_1\",\n",
    "  \"full_sentence_2\":\"full_sentence_1\"\n",
    "})\n",
    "\n",
    "datax_2 = data2_1.rename(columns={\n",
    "  \"entity_x\":\"entity_2\", \n",
    "  \"identifier_x\":\"identifier_2\",\n",
    "  \"id_identifier_x\":\"id_identifier_2\",\n",
    "  \"full_sentence_x\":\"full_sentence_2\"\n",
    "})\n",
    "datax_2"
   ]
  },
  {
   "cell_type": "code",
   "execution_count": null,
   "metadata": {},
   "outputs": [],
   "source": [
    "merged_df_2"
   ]
  },
  {
   "cell_type": "code",
   "execution_count": null,
   "metadata": {},
   "outputs": [],
   "source": [
    "combined_df = pd.concat([merged_df_2, datax_2], ignore_index=True)\n",
    "combined_df.drop_duplicates().to_csv(\"/content/drive/MyDrive/BioCreativeVIII/BioREx/datas/dataset_train_novel/train_novel_v3.csv\")"
   ]
  },
  {
   "cell_type": "code",
   "execution_count": null,
   "metadata": {},
   "outputs": [],
   "source": [
    "combined_df"
   ]
  },
  {
   "cell_type": "code",
   "execution_count": null,
   "metadata": {},
   "outputs": [],
   "source": [
    "combined_df.drop_duplicates()"
   ]
  },
  {
   "cell_type": "code",
   "execution_count": null,
   "metadata": {},
   "outputs": [],
   "source": [
    "data_frame_RE"
   ]
  },
  {
   "cell_type": "code",
   "execution_count": null,
   "metadata": {},
   "outputs": [],
   "source": [
    "doc_id = \"BC8_BioRED_Task1_Doc0\"\n",
    "id_identifier = \"4312\"\n",
    "doc_id_data = data_frame_NER_clean[data_frame_NER_clean['doc_id'] == doc_id]\n",
    "doc_id_data_id_identifier = doc_id_data[doc_id_data['id_identifier'] == id_identifier]\n",
    "sentences = doc_id_data_id_identifier[\"full_sentence\"]"
   ]
  },
  {
   "cell_type": "code",
   "execution_count": null,
   "metadata": {},
   "outputs": [],
   "source": [
    "doc_id_data_id_identifier"
   ]
  },
  {
   "cell_type": "code",
   "execution_count": null,
   "metadata": {},
   "outputs": [],
   "source": [
    "# def extract_entity_from_NER_dataframe_1(doc_id, id_identifier): \n",
    "#     doc_id_data = data_frame_NER_clean[data_frame_NER_clean['doc_id'] == doc_id] \n",
    "#     doc_id_data_id_identifier = doc_id_data[doc_id_data['id_identifier'] == id_identifier] \n",
    "#     doc_id_data_id_identifier.drop(['doc_id','id_identifier'],axis=1, inplace=True) \n",
    "#     return doc_id_data_id_identifier.rename(columns={'entity': 'entity_1', \n",
    "#                                                      'id_identifier': 'id_identifier_1', \n",
    "#                                                      'full_sentence': 'full_sentence_1'\n",
    "#                                                      }).iloc[0].values\n",
    "def extract_entity_from_NER_dataframe(doc_id, id_identifier):\n",
    "    doc_id_data = data_frame_NER_clean[data_frame_NER_clean['doc_id'] == doc_id]\n",
    "    doc_id_data_id_identifier = doc_id_data[doc_id_data['id_identifier'] == id_identifier]\n",
    "    \n",
    "    if not doc_id_data_id_identifier.empty:\n",
    "        # Check if the resulting DataFrame is not empty\n",
    "        row = doc_id_data_id_identifier.iloc[0]\n",
    "        sentences = doc_id_data_id_identifier[\"full_sentence\"]\n",
    "\n",
    "        return row['entity'], row['identifier'], sentences\n",
    "    else:\n",
    "        # Return default values or handle the case when there's no matching row\n",
    "        return None, None, None\n",
    "\n",
    "\n",
    "# Gọi hàm extract_entity_from_NER_dataframe\n",
    "entity, identifier, full_sentence = extract_entity_from_NER_dataframe(\"BC8_BioRED_Task1_Doc0\", \"4312\")\n",
    "\n",
    "entity, identifier, full_sentence"
   ]
  },
  {
   "cell_type": "code",
   "execution_count": null,
   "metadata": {},
   "outputs": [],
   "source": [
    "import pandas as pd\n",
    "\n",
    "# Assuming your DataFrame is named data_frame_RE\n",
    "\n",
    "# def add_entity_info_to_dataframe_1(row):\n",
    "#     doc_id = row['doc_id']\n",
    "#     id_identifier = row['id_identifier_1']\n",
    "    \n",
    "#     entity, identifier, full_sentence = extract_entity_from_NER_dataframe(doc_id, id_identifier)\n",
    "#     if len(full_sentence) > 1:\n",
    "#         #do this len(full_sentence) time  return pd.Series({'entity_1': entity, 'identifier_1': identifier, 'full_sentence_1': full_sentence}) \n",
    "#     else: \n",
    "#         return pd.Series({'entity_1': entity, 'identifier_1': identifier, 'full_sentence_1': full_sentence})\n",
    "\n",
    "def add_entity_info_to_dataframe_1(row):\n",
    "   doc_id = row['doc_id']\n",
    "   id_identifier = row['id_identifier_1']\n",
    "\n",
    "   entity, identifier, full_sentence = extract_entity_from_NER_dataframe(doc_id, id_identifier)\n",
    "\n",
    "   if len(full_sentence) > 1:\n",
    "       # Create a list of Series, one for each sentence\n",
    "       series_list = []\n",
    "       for i in range(len(full_sentence)):\n",
    "           series_list.append(pd.Series({'entity_1': entity, 'identifier_1': identifier, 'full_sentence_1': full_sentence[i]}))\n",
    "\n",
    "       # Concatenate the Series into a DataFrame\n",
    "       return series_list\n",
    "    #    return pd.concat(series_list, axis=1)\n",
    "   else:\n",
    "      return pd.Series({'entity_1': entity, 'identifier_1': identifier, 'full_sentence_1': full_sentence})\n",
    "\n",
    "\n",
    "# Apply the function to each row of data_frame_RE\n",
    "# new_columns = data_frame_RE.apply(add_entity_info_to_dataframe_1, axis=1)\n",
    "# new_columns\n",
    "# # Concatenate the new columns to data_frame_RE\n",
    "# data_frame_RE_merge_1 = pd.concat([data_frame_RE, new_columns], axis=1)\n",
    "# add_entity_info_to_dataframe_1(data_frame_RE.iloc[0])\n"
   ]
  },
  {
   "cell_type": "code",
   "execution_count": null,
   "metadata": {},
   "outputs": [],
   "source": [
    "add_entity_info_to_dataframe_1(data_frame_RE.iloc[1])"
   ]
  },
  {
   "cell_type": "code",
   "execution_count": null,
   "metadata": {},
   "outputs": [],
   "source": [
    "\n",
    "def add_entity_info_to_dataframe_2(row):\n",
    "    doc_id = row['doc_id']\n",
    "    id_identifier = row['id_identifier_2']\n",
    "    \n",
    "    entity, identifier, full_sentence = extract_entity_from_NER_dataframe(doc_id, id_identifier)\n",
    "    \n",
    "    return pd.Series({'entity_2': entity, 'identifier_2': identifier, 'full_sentence_2': full_sentence})\n",
    "\n",
    "# Apply the function to each row of data_frame_RE\n",
    "new_columns = data_frame_RE_merge_1.apply(add_entity_info_to_dataframe_2, axis=1)\n",
    "\n",
    "# Concatenate the new columns to data_frame_RE\n",
    "data_frame_RE_merge_2 = pd.concat([data_frame_RE_merge_1, new_columns], axis=1)"
   ]
  },
  {
   "cell_type": "code",
   "execution_count": null,
   "metadata": {},
   "outputs": [],
   "source": [
    "data_frame_RE_merge_2.to_csv('dataset_train_novel/train_novel.csv')"
   ]
  },
  {
   "cell_type": "code",
   "execution_count": null,
   "metadata": {},
   "outputs": [],
   "source": [
    "data_frame_RE_merge_2"
   ]
  },
  {
   "cell_type": "code",
   "execution_count": null,
   "metadata": {},
   "outputs": [],
   "source": [
    "data_frame_NER['identifier'].value_counts()"
   ]
  },
  {
   "cell_type": "code",
   "execution_count": null,
   "metadata": {},
   "outputs": [],
   "source": [
    "data_frame_RE['novel_cls'].value_counts()"
   ]
  },
  {
   "cell_type": "code",
   "execution_count": null,
   "metadata": {},
   "outputs": [],
   "source": [
    "data_frame_RE['relation'].value_counts()"
   ]
  },
  {
   "cell_type": "code",
   "execution_count": null,
   "metadata": {},
   "outputs": [],
   "source": []
  },
  {
   "cell_type": "code",
   "execution_count": null,
   "metadata": {},
   "outputs": [],
   "source": []
  },
  {
   "cell_type": "code",
   "execution_count": null,
   "metadata": {},
   "outputs": [],
   "source": []
  },
  {
   "cell_type": "code",
   "execution_count": null,
   "metadata": {},
   "outputs": [],
   "source": []
  },
  {
   "cell_type": "code",
   "execution_count": null,
   "metadata": {},
   "outputs": [],
   "source": []
  },
  {
   "cell_type": "code",
   "execution_count": null,
   "metadata": {},
   "outputs": [],
   "source": []
  }
 ],
 "metadata": {
  "kernelspec": {
   "display_name": "Python 3",
   "language": "python",
   "name": "python3"
  },
  "language_info": {
   "codemirror_mode": {
    "name": "ipython",
    "version": 3
   },
   "file_extension": ".py",
   "mimetype": "text/x-python",
   "name": "python",
   "nbconvert_exporter": "python",
   "pygments_lexer": "ipython3",
   "version": "3.10.12"
  }
 },
 "nbformat": 4,
 "nbformat_minor": 2
}
